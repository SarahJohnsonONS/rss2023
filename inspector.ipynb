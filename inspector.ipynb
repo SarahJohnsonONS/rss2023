{
 "cells": [
  {
   "cell_type": "code",
   "execution_count": 64,
   "metadata": {},
   "outputs": [
    {
     "name": "stdout",
     "output_type": "stream",
     "text": [
      "Inspector(primary_csvw=PosixPath('~/code/rss2023/ess/happiness/happiness.csv-metadata.json'),\n",
      "          tables=[DataCubeTable(csv_url='happiness.csv',\n",
      "                                title='Happiness',\n",
      "                                shape=<CubeShape.Pivoted: 2>,\n",
      "                                data_set_uri='happiness.csv#dataset'),\n",
      "                  CodeListTable(csv_url='goverment-year.csv',\n",
      "                                title='Goverment Year',\n",
      "                                concept_scheme_uri='goverment-year.csv#code-list'),\n",
      "                  CodeListTable(csv_url='ons-geography-code-list-for-happiness-csv.csv',\n",
      "                                title='ONS Geography Code List for '\n",
      "                                      'happiness.csv',\n",
      "                                concept_scheme_uri='ons-geography-code-list-for-happiness-csv.csv#code-list')])\n"
     ]
    }
   ],
   "source": [
    "from csvcubed.inspect.inspectortable import Inspector\n",
    "from pathlib import Path\n",
    "from pprint import pprint as pp\n",
    "\n",
    "data_sets_directory = Path(\"~/code/rss2023/ess\")\n",
    "inspector = Inspector(data_sets_directory / \"happiness\" / \"happiness.csv-metadata.json\")\n",
    "pp(inspector)"
   ]
  },
  {
   "cell_type": "code",
   "execution_count": 65,
   "metadata": {},
   "outputs": [
    {
     "name": "stdout",
     "output_type": "stream",
     "text": [
      "[DataCubeTable(csv_url='happiness.csv',\n",
      "               title='Happiness',\n",
      "               shape=<CubeShape.Pivoted: 2>,\n",
      "               data_set_uri='happiness.csv#dataset'),\n",
      " CodeListTable(csv_url='goverment-year.csv',\n",
      "               title='Goverment Year',\n",
      "               concept_scheme_uri='goverment-year.csv#code-list'),\n",
      " CodeListTable(csv_url='ons-geography-code-list-for-happiness-csv.csv',\n",
      "               title='ONS Geography Code List for happiness.csv',\n",
      "               concept_scheme_uri='ons-geography-code-list-for-happiness-csv.csv#code-list')]\n"
     ]
    }
   ],
   "source": [
    "pp(inspector.tables)"
   ]
  },
  {
   "cell_type": "code",
   "execution_count": 66,
   "metadata": {},
   "outputs": [
    {
     "name": "stdout",
     "output_type": "stream",
     "text": [
      "DataCubeTable(csv_url='happiness.csv',\n",
      "              title='Happiness',\n",
      "              shape=<CubeShape.Pivoted: 2>,\n",
      "              data_set_uri='happiness.csv#dataset')\n"
     ]
    }
   ],
   "source": [
    "primary_table = inspector.tables[0]\n",
    "pp(primary_table)"
   ]
  },
  {
   "cell_type": "code",
   "execution_count": 67,
   "metadata": {},
   "outputs": [
    {
     "name": "stdout",
     "output_type": "stream",
     "text": [
      "CodeListTable(csv_url='goverment-year.csv',\n",
      "              title='Goverment Year',\n",
      "              concept_scheme_uri='goverment-year.csv#code-list')\n",
      "CodeListTable(csv_url='ons-geography-code-list-for-happiness-csv.csv',\n",
      "              title='ONS Geography Code List for happiness.csv',\n",
      "              concept_scheme_uri='ons-geography-code-list-for-happiness-csv.csv#code-list')\n"
     ]
    }
   ],
   "source": [
    "from csvcubed.inspect.inspectortable import CodeListTable\n",
    "\n",
    "for table in inspector.tables:\n",
    "    if isinstance(table, CodeListTable):\n",
    "        pp(table)"
   ]
  },
  {
   "cell_type": "code",
   "execution_count": 68,
   "metadata": {},
   "outputs": [
    {
     "name": "stdout",
     "output_type": "stream",
     "text": [
      "<CubeShape.Pivoted: 2>\n",
      "<CubeShape.Pivoted: 2>\n"
     ]
    }
   ],
   "source": [
    "csv_url = primary_table.csv_url\n",
    "data_cube_repository = primary_table.data_cube_repository\n",
    "pp(primary_table.shape)\n",
    "pp(data_cube_repository.get_shape_for_csv(csv_url))"
   ]
  },
  {
   "cell_type": "code",
   "execution_count": 69,
   "metadata": {},
   "outputs": [
    {
     "name": "stdout",
     "output_type": "stream",
     "text": [
      "CatalogMetadataResult(dataset_uri='happiness.csv#dataset',\n",
      "                      graph_uri='file:///Users/sarahjohnson/code/rss2023/ess/happiness/happiness.csv-metadata.json',\n",
      "                      title='Happiness',\n",
      "                      label='Happiness',\n",
      "                      issued='2023-03-31T12:13:00.562377',\n",
      "                      modified='2023-03-31T12:13:00.562377',\n",
      "                      license='http://www.nationalarchives.gov.uk/doc/open-government-licence/version/3/',\n",
      "                      creator='https://www.gov.uk/government/organisations/office-for-national-statistics',\n",
      "                      publisher='https://www.gov.uk/government/organisations/office-for-national-statistics',\n",
      "                      landing_pages=[''],\n",
      "                      themes=['https://www.ons.gov.uk/peoplepopulationandcommunity/wellbeing'],\n",
      "                      keywords=['personal-wellbeing',\n",
      "                                'local-authorities',\n",
      "                                'counties',\n",
      "                                'regions',\n",
      "                                'annual-population-survey',\n",
      "                                'quality-of-life',\n",
      "                                'subnational'],\n",
      "                      contact_point='None',\n",
      "                      identifier='Happiness',\n",
      "                      comment='The average rating of those that felt happy '\n",
      "                              'yesterday for adults aged 16 years and over, '\n",
      "                              'UK, 04/2011-03/2012 to 04/2021-03/2022.',\n",
      "                      description='This dataset shows the average rating of '\n",
      "                                  'those that felt happy yesterday for adults '\n",
      "                                  'aged 16 years and over, in the UK, for '\n",
      "                                  'periods 04/2011-03/2012 to '\n",
      "                                  '04/2021-03/2022.\\n'\n",
      "                                  '\\n'\n",
      "                                  '### Coverage \\n'\n",
      "                                  '\\n'\n",
      "                                  'UK\\n'\n",
      "                                  '\\n'\n",
      "                                  '#### Geography definition\\n'\n",
      "                                  '\\n'\n",
      "                                  'Local Authority Districts and Unitary '\n",
      "                                  'Authorities,\\n'\n",
      "                                  'Counties,\\n'\n",
      "                                  'Regions,\\n'\n",
      "                                  'Nations (England, Wales, Scotland, Northern '\n",
      "                                  'Ireland),\\n'\n",
      "                                  'Country (UK)\\n'\n",
      "                                  '\\n'\n",
      "                                  '### Source\\n'\n",
      "                                  '\\n'\n",
      "                                  ' - United Kingdom: [Office for National '\n",
      "                                  'Statistics](https://www.ons.gov.uk/peoplepopulationandcommunity/wellbeing/bulletins/measuringnationalwellbeing/previousReleases) \\n'\n",
      "                                  '\\n'\n",
      "                                  '\\n'\n",
      "                                  '### Source Notes and Caveats \\n'\n",
      "                                  'On 31 October 2022, alongside the '\n",
      "                                  'publication of the latest personal '\n",
      "                                  'well-being estimates for the period between '\n",
      "                                  'April 2021 to March 2022, previously '\n",
      "                                  'published estimates for the periods between '\n",
      "                                  'April 2011 and March 2019 have been updated '\n",
      "                                  'due to changes in guidance on data '\n",
      "                                  'suppression, where estimates are no longer '\n",
      "                                  'required to be suppressed solely based on '\n",
      "                                  'their co-efficient of variation (CV) '\n",
      "                                  'values. Previously published estimates were '\n",
      "                                  'suppressed based on their co-efficient of '\n",
      "                                  'variation (CV) values being over 20. '\n",
      "                                  'Estimates have also been updated following '\n",
      "                                  'quality assurance of previous '\n",
      "                                  'publications. \\n'\n",
      "                                  '\\n'\n",
      "                                  '\\n')\n"
     ]
    }
   ],
   "source": [
    "pp(data_cube_repository.csvw_repository.get_primary_catalog_metadata())"
   ]
  },
  {
   "cell_type": "code",
   "execution_count": 73,
   "metadata": {},
   "outputs": [
    {
     "name": "stdout",
     "output_type": "stream",
     "text": [
      "      AREACD          AREANM Geography             Variable Name  Indicator  \\\n",
      "0  k02000001  United Kingdom   Country  Average happiness rating  Happiness   \n",
      "1  k02000001  United Kingdom   Country  Average happiness rating  Happiness   \n",
      "2  k02000001  United Kingdom   Country  Average happiness rating  Happiness   \n",
      "3  k02000001  United Kingdom   Country  Average happiness rating  Happiness   \n",
      "4  k02000001  United Kingdom   Country  Average happiness rating  Happiness   \n",
      "\n",
      "     Mission                                           Category     Period  \\\n",
      "0  Mission 8  Spreading opportunity and improving public ser...  2011-2012   \n",
      "1  Mission 8  Spreading opportunity and improving public ser...  2012-2013   \n",
      "2  Mission 8  Spreading opportunity and improving public ser...  2013-2014   \n",
      "3  Mission 8  Spreading opportunity and improving public ser...  2014-2015   \n",
      "4  Mission 8  Spreading opportunity and improving public ser...  2015-2016   \n",
      "\n",
      "   Value                                            Measure             Unit  \\\n",
      "0   7.29  Mean (Where 0 is 'not at all happy' and 10 is ...  Score out of 10   \n",
      "1   7.30  Mean (Where 0 is 'not at all happy' and 10 is ...  Score out of 10   \n",
      "2   7.39  Mean (Where 0 is 'not at all happy' and 10 is ...  Score out of 10   \n",
      "3   7.46  Mean (Where 0 is 'not at all happy' and 10 is ...  Score out of 10   \n",
      "4   7.48  Mean (Where 0 is 'not at all happy' and 10 is ...  Score out of 10   \n",
      "\n",
      "   Lower Confidence Interval (95%)  Upper Confidence Interval (95%)  \\\n",
      "0                             7.28                             7.31   \n",
      "1                             7.29                             7.32   \n",
      "2                             7.38                             7.41   \n",
      "3                             7.45                             7.48   \n",
      "4                             7.46                             7.49   \n",
      "\n",
      "  Observation Status Polarity Notes  \n",
      "0                NaN        1   NaN  \n",
      "1                NaN        1   NaN  \n",
      "2                NaN        1   NaN  \n",
      "3                NaN        1   NaN  \n",
      "4                NaN        1   NaN  \n"
     ]
    }
   ],
   "source": [
    "df, errors = data_cube_repository.get_dataframe(csv_url, dereference_uris=False)\n",
    "print(df.head())"
   ]
  }
 ],
 "metadata": {
  "kernelspec": {
   "display_name": "Python 3",
   "language": "python",
   "name": "python3"
  },
  "language_info": {
   "codemirror_mode": {
    "name": "ipython",
    "version": 3
   },
   "file_extension": ".py",
   "mimetype": "text/x-python",
   "name": "python",
   "nbconvert_exporter": "python",
   "pygments_lexer": "ipython3",
   "version": "3.11.1"
  },
  "orig_nbformat": 4
 },
 "nbformat": 4,
 "nbformat_minor": 2
}
